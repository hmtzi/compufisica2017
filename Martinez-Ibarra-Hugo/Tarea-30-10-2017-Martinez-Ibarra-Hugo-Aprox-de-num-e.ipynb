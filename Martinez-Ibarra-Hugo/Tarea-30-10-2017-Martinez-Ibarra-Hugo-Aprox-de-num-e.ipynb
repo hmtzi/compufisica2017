{
 "cells": [
  {
   "cell_type": "markdown",
   "metadata": {},
   "source": [
    "### Martínez Ibarra Hugo\n",
    "***\n",
    "### Computación <p style=\"text-align:right\">Grupo 8381"
   ]
  },
  {
   "cell_type": "markdown",
   "metadata": {},
   "source": [
    "## <p style=\"color:darkblue;text-align:center\">Ejercicio de aproximación numérica"
   ]
  },
  {
   "cell_type": "markdown",
   "metadata": {},
   "source": [
    "Se va a aproximar el número $e$ mediante el uso de la aproximación:\n",
    "$$e=\\displaystyle{\\sum_{i=0}^{\\infty}}\\dfrac{1}{n!}$$"
   ]
  },
  {
   "cell_type": "markdown",
   "metadata": {},
   "source": [
    "Primero se declara la función factorial que se usará dentro del algoritmo para aproximar $e$:"
   ]
  },
  {
   "cell_type": "code",
   "execution_count": 1,
   "metadata": {},
   "outputs": [
    {
     "data": {
      "text/plain": [
       "facto (generic function with 1 method)"
      ]
     },
     "execution_count": 1,
     "metadata": {},
     "output_type": "execute_result"
    }
   ],
   "source": [
    "function facto(r)\n",
    "    if r==0\n",
    "        1\n",
    "    else\n",
    "        r*facto(r-1)\n",
    "    end\n",
    "end"
   ]
  },
  {
   "cell_type": "code",
   "execution_count": 2,
   "metadata": {},
   "outputs": [
    {
     "data": {
      "text/plain": [
       "51090942171709440000"
      ]
     },
     "execution_count": 2,
     "metadata": {},
     "output_type": "execute_result"
    }
   ],
   "source": [
    "facto(big(21))"
   ]
  },
  {
   "cell_type": "code",
   "execution_count": 3,
   "metadata": {},
   "outputs": [
    {
     "data": {
      "text/plain": [
       "Numeroe (generic function with 1 method)"
      ]
     },
     "execution_count": 3,
     "metadata": {},
     "output_type": "execute_result"
    }
   ],
   "source": [
    "function Numeroe(k)\n",
    "    sum=0.0\n",
    "    for i ∈ 0.0:k\n",
    "        sum=sum+(1/facto(i))\n",
    "    end\n",
    "    print(sum)\n",
    "end"
   ]
  },
  {
   "cell_type": "code",
   "execution_count": 5,
   "metadata": {},
   "outputs": [
    {
     "name": "stdout",
     "output_type": "stream",
     "text": [
      "2.718281828458994464285469576474867480158485449490740496031501322506613511904582  0.000232 seconds (644 allocations: 35.614 KiB)\n"
     ]
    }
   ],
   "source": [
    "@time Numeroe(big(15))"
   ]
  },
  {
   "cell_type": "code",
   "execution_count": null,
   "metadata": {},
   "outputs": [],
   "source": []
  }
 ],
 "metadata": {
  "kernelspec": {
   "display_name": "Julia 0.6.0",
   "language": "julia",
   "name": "julia-0.6"
  },
  "language_info": {
   "file_extension": ".jl",
   "mimetype": "application/julia",
   "name": "julia",
   "version": "0.6.0"
  }
 },
 "nbformat": 4,
 "nbformat_minor": 2
}
