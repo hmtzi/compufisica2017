{
 "cells": [
  {
   "cell_type": "markdown",
   "metadata": {},
   "source": [
    "### Martínez Ibarra Hugo\n",
    "***\n",
    "### Computación <p style=\"text-align:right\">Grupo 8381"
   ]
  },
  {
   "cell_type": "markdown",
   "metadata": {},
   "source": [
    "## <p style=\"color:darkblue;text-align:center\">Tarea de lunes 27/11/2017\n",
    "### Producto escalar o interior y multiplicación de matrices a partir de la lectura de un archivo de  texto"
   ]
  },
  {
   "cell_type": "code",
   "execution_count": 1,
   "metadata": {},
   "outputs": [],
   "source": [
    "MA=[5.0 8.0 6.0;9.0 3.0 2.0];\n",
    "MB=[7.0,5.0,2.0];"
   ]
  },
  {
   "cell_type": "code",
   "execution_count": 2,
   "metadata": {},
   "outputs": [],
   "source": [
    "writedlm(\"A.txt\",MA,'|')\n",
    "writedlm(\"B.txt\",MB,'|');"
   ]
  },
  {
   "cell_type": "code",
   "execution_count": 3,
   "metadata": {},
   "outputs": [
    {
     "data": {
      "text/plain": [
       "2×3 Array{Float64,2}:\n",
       " 5.0  8.0  6.0\n",
       " 9.0  3.0  2.0"
      ]
     },
     "execution_count": 3,
     "metadata": {},
     "output_type": "execute_result"
    }
   ],
   "source": [
    "A=readdlm(\"A.txt\",'|')\n",
    "#Se asigna un nombre al resultado de leer el archivo que contiene los datos que serán las entradas de la matriz."
   ]
  },
  {
   "cell_type": "code",
   "execution_count": 4,
   "metadata": {},
   "outputs": [
    {
     "data": {
      "text/plain": [
       "3×1 Array{Float64,2}:\n",
       " 7.0\n",
       " 5.0\n",
       " 2.0"
      ]
     },
     "execution_count": 4,
     "metadata": {},
     "output_type": "execute_result"
    }
   ],
   "source": [
    "B=readdlm(\"B.txt\",'|')\n",
    "#Se asigna un nombre al resultado de leer el archivo que contiene los datos que serán las entradas de la matriz."
   ]
  },
  {
   "cell_type": "code",
   "execution_count": 5,
   "metadata": {},
   "outputs": [
    {
     "data": {
      "text/plain": [
       "(2, 3)"
      ]
     },
     "execution_count": 5,
     "metadata": {},
     "output_type": "execute_result"
    }
   ],
   "source": [
    "size(A)"
   ]
  },
  {
   "cell_type": "code",
   "execution_count": 6,
   "metadata": {},
   "outputs": [
    {
     "data": {
      "text/plain": [
       "(3, 1)"
      ]
     },
     "execution_count": 6,
     "metadata": {},
     "output_type": "execute_result"
    }
   ],
   "source": [
    "size(B)"
   ]
  },
  {
   "cell_type": "code",
   "execution_count": 7,
   "metadata": {},
   "outputs": [
    {
     "data": {
      "text/plain": [
       "2×1 Array{Float64,2}:\n",
       " 0.0\n",
       " 0.0"
      ]
     },
     "execution_count": 7,
     "metadata": {},
     "output_type": "execute_result"
    }
   ],
   "source": [
    "C=zeros(size(A)[1],size(B)[2])\n",
    "#Ejemplo de cómo será eñ tamaño de la matriz resultante, este se definirá de neuvo más adelante en la función de multiplicación de matrices\n",
    "# Se acaba de definir el tamaño de la matriz que contendrá el resultado de la multiplicación de matrices.\n",
    "# Al escribir size()[]Dentro de los corchetes se indica el índice del vector (dupla) \"size\" que define el tamaño de la matrix."
   ]
  },
  {
   "cell_type": "code",
   "execution_count": 8,
   "metadata": {},
   "outputs": [
    {
     "data": {
      "text/plain": [
       "3-element Array{Int64,1}:\n",
       " 1\n",
       " 2\n",
       " 3"
      ]
     },
     "execution_count": 8,
     "metadata": {},
     "output_type": "execute_result"
    }
   ],
   "source": [
    "D=[1,2,3] #Vector ejemplo creado para verificar función de producto escalar."
   ]
  },
  {
   "cell_type": "code",
   "execution_count": 9,
   "metadata": {},
   "outputs": [
    {
     "data": {
      "text/plain": [
       "3-element Array{Int64,1}:\n",
       " 4\n",
       " 5\n",
       " 6"
      ]
     },
     "execution_count": 9,
     "metadata": {},
     "output_type": "execute_result"
    }
   ],
   "source": [
    "E=[4,5,6] #Vector ejemplo creado para verificar función de producto escalar."
   ]
  },
  {
   "cell_type": "code",
   "execution_count": 10,
   "metadata": {},
   "outputs": [
    {
     "data": {
      "text/plain": [
       "prodesc (generic function with 1 method)"
      ]
     },
     "execution_count": 10,
     "metadata": {},
     "output_type": "execute_result"
    }
   ],
   "source": [
    "#Definición  de la función producto escalar\n",
    "function prodesc(M1::Array,M2::Array)\n",
    "    if size(M1)==size(M2)\n",
    "        R=zeros(M1)\n",
    "        for i in eachindex(R)\n",
    "            R[i]=M1[i]*M2[i]\n",
    "        end\n",
    "        sum(R)\n",
    "    else\n",
    "        print(\"No son del mismo tamaño\")\n",
    "    end\n",
    "end"
   ]
  },
  {
   "cell_type": "code",
   "execution_count": 11,
   "metadata": {},
   "outputs": [
    {
     "data": {
      "text/plain": [
       "32"
      ]
     },
     "execution_count": 11,
     "metadata": {},
     "output_type": "execute_result"
    }
   ],
   "source": [
    "prodesc(D,E) #Se está verificando la función escalar con los vectores ejemplo."
   ]
  },
  {
   "cell_type": "code",
   "execution_count": 12,
   "metadata": {},
   "outputs": [
    {
     "data": {
      "text/plain": [
       "3-element Array{Int64,1}:\n",
       " 1\n",
       " 2\n",
       " 3"
      ]
     },
     "execution_count": 12,
     "metadata": {},
     "output_type": "execute_result"
    }
   ],
   "source": [
    "D[:,1] #Aquí se está llamando, en forma de vector, a todos los elementos de dimensión 1 del vector D; es decir a la columna 1."
   ]
  },
  {
   "cell_type": "code",
   "execution_count": 13,
   "metadata": {},
   "outputs": [
    {
     "data": {
      "text/plain": [
       "1-element Array{Int64,1}:\n",
       " 1"
      ]
     },
     "execution_count": 13,
     "metadata": {},
     "output_type": "execute_result"
    }
   ],
   "source": [
    "D[1,:] #Aquí se está llamando, en forma de vector, a todos los elementos del primer renglón, es decir de todas las dimensiones (o columnas)."
   ]
  },
  {
   "cell_type": "code",
   "execution_count": 14,
   "metadata": {},
   "outputs": [
    {
     "data": {
      "text/plain": [
       "3-element Array{Float64,1}:\n",
       " 5.0\n",
       " 8.0\n",
       " 6.0"
      ]
     },
     "execution_count": 14,
     "metadata": {},
     "output_type": "execute_result"
    }
   ],
   "source": [
    "Ar1=A[1,:] #Se les puede asignar un nombre a los vectores que se obtuvieron de la forma anterior. Esto es un ejemplo con el primer renglón de la matriz A que corresponde a el problema original."
   ]
  },
  {
   "cell_type": "code",
   "execution_count": 15,
   "metadata": {},
   "outputs": [
    {
     "data": {
      "text/plain": [
       "3-element Array{Float64,1}:\n",
       " 7.0\n",
       " 5.0\n",
       " 2.0"
      ]
     },
     "execution_count": 15,
     "metadata": {},
     "output_type": "execute_result"
    }
   ],
   "source": [
    "Bc1=B[:,1] #Se les puede asignar un nombre a los vectores que se obtuvieron de la forma anterior. Esto es un ejemplo con la primer columna de la matriz B que corresponde a el problema original."
   ]
  },
  {
   "cell_type": "markdown",
   "metadata": {},
   "source": [
    "Lo anterior es necesario, pues la multiplicación de matrices se hace entre un renglon de la primera matriz y una columna de la segunda matriz, pero además que el índice de la columna (en el renglón de la primera matriz) corresponda con el índice del renglón (de la columna de la segunda matriz)."
   ]
  },
  {
   "cell_type": "code",
   "execution_count": 16,
   "metadata": {},
   "outputs": [
    {
     "data": {
      "text/plain": [
       "87.0"
      ]
     },
     "execution_count": 16,
     "metadata": {},
     "output_type": "execute_result"
    }
   ],
   "source": [
    "prodesc(Ar1,Bc1) #Haciendo una prueba del producto escalar con el renglón 1 de la primera matriz (A) y la columna 1 de la segunda matriz (B)."
   ]
  },
  {
   "cell_type": "code",
   "execution_count": 17,
   "metadata": {},
   "outputs": [
    {
     "data": {
      "text/plain": [
       "87.0"
      ]
     },
     "execution_count": 17,
     "metadata": {},
     "output_type": "execute_result"
    }
   ],
   "source": [
    "prodesc(A[1,:],B[:,1]) #Se puede usar la función prodcuto escalar sin asignar un nombre a los vectores obtenidos."
   ]
  },
  {
   "cell_type": "code",
   "execution_count": 18,
   "metadata": {},
   "outputs": [
    {
     "data": {
      "text/plain": [
       "multmat (generic function with 1 method)"
      ]
     },
     "execution_count": 18,
     "metadata": {},
     "output_type": "execute_result"
    }
   ],
   "source": [
    "#Función para definir cómo se va a llenar la matriz resultante de la multiplicación.\n",
    "function multmat(M1::Array,M2::Array)\n",
    "    if size(M1)[2]==size(M2)[1]\n",
    "        R=zeros(size(M1)[1],size(M2)[2])\n",
    "        for i in [1,size(M1)[1]]\n",
    "            for j in [1,size(M2)[2]]\n",
    "                R[i,j]=prodesc(M1[i,:],M2[:,j])\n",
    "            end\n",
    "        end\n",
    "        R\n",
    "    else\n",
    "        print(\"No son del mismo tamaño\")\n",
    "    end\n",
    "end"
   ]
  },
  {
   "cell_type": "code",
   "execution_count": 19,
   "metadata": {},
   "outputs": [
    {
     "data": {
      "text/plain": [
       "2×1 Array{Float64,2}:\n",
       " 87.0\n",
       " 82.0"
      ]
     },
     "execution_count": 19,
     "metadata": {},
     "output_type": "execute_result"
    }
   ],
   "source": [
    "#Matriz resultado\n",
    "AB=multmat(A,B)"
   ]
  },
  {
   "cell_type": "code",
   "execution_count": null,
   "metadata": {},
   "outputs": [],
   "source": []
  }
 ],
 "metadata": {
  "kernelspec": {
   "display_name": "Julia 0.6.0",
   "language": "julia",
   "name": "julia-0.6"
  },
  "language_info": {
   "file_extension": ".jl",
   "mimetype": "application/julia",
   "name": "julia",
   "version": "0.6.0"
  }
 },
 "nbformat": 4,
 "nbformat_minor": 2
}
