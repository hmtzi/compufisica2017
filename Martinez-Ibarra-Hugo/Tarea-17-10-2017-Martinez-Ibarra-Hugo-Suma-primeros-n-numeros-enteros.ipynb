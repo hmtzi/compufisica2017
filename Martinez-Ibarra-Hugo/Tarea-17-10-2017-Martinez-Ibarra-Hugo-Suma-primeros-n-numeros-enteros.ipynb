{
 "cells": [
  {
   "cell_type": "markdown",
   "metadata": {},
   "source": [
    "### Martínez Ibarra Hugo\n",
    "***\n",
    "### Computación <p style=\"text-align:right\">Grupo 8381</p>"
   ]
  },
  {
   "cell_type": "markdown",
   "metadata": {},
   "source": [
    "## <p style=\"color:darkblue;text-align:center\">Con el uso del comando _for_\n",
    "***"
   ]
  },
  {
   "cell_type": "code",
   "execution_count": 1,
   "metadata": {},
   "outputs": [
    {
     "name": "stdout",
     "output_type": "stream",
     "text": [
      "Iteración: 1  Suma: 1\n",
      "Iteración: 2  Suma: 3\n",
      "Iteración: 3  Suma: 6\n"
     ]
    }
   ],
   "source": [
    "s=0;\n",
    "k=1;\n",
    "n=3;\n",
    "\n",
    "for i ∈ 1:n\n",
    "    s=s+k\n",
    "    k=k+1\n",
    "    println(\"Iteración: \",i,\"  Suma: \",s)\n",
    "end"
   ]
  },
  {
   "cell_type": "markdown",
   "metadata": {},
   "source": [
    "## <p style=\"color:darkblue;text-align:center\">Con el uso del comando _while_\n",
    "***"
   ]
  },
  {
   "cell_type": "code",
   "execution_count": 2,
   "metadata": {},
   "outputs": [
    {
     "name": "stdout",
     "output_type": "stream",
     "text": [
      "Iteración: 1  Suma: 1\n",
      "Iteración: 2  Suma: 3\n",
      "Iteración: 3  Suma: 6\n"
     ]
    }
   ],
   "source": [
    "sum=0;\n",
    "N=3;\n",
    "j=0;\n",
    "\n",
    "while j<N\n",
    "    j=j+1\n",
    "    sum=sum+j\n",
    "    println(\"Iteración: \",j,\"  Suma: \",sum)\n",
    "end"
   ]
  }
 ],
 "metadata": {
  "kernelspec": {
   "display_name": "Julia 0.5.2",
   "language": "julia",
   "name": "julia-0.5"
  },
  "language_info": {
   "file_extension": ".jl",
   "mimetype": "application/julia",
   "name": "julia",
   "version": "0.5.2"
  }
 },
 "nbformat": 4,
 "nbformat_minor": 2
}
